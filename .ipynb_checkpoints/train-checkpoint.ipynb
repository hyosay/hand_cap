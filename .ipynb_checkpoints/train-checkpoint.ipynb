{
 "cells": [
  {
   "cell_type": "code",
   "execution_count": 1,
   "metadata": {},
   "outputs": [],
   "source": [
    "import numpy as np\n",
    "import os\n",
    "\n",
    "os.environ['CUDA_VISIBLE_DEVICES'] = '1'\n",
    "\n",
    "os.environ['TF_FORCE_GPU_ALLOW_GROWTH'] = 'true'"
   ]
  },
  {
   "cell_type": "code",
   "execution_count": 2,
   "metadata": {},
   "outputs": [
    {
     "data": {
      "text/plain": [
       "(1253, 30, 100)"
      ]
     },
     "execution_count": 2,
     "metadata": {},
     "output_type": "execute_result"
    }
   ],
   "source": [
    "actions = [\n",
    "    'spin',\n",
    "    'come',\n",
    "    'one_come'\n",
    "]\n",
    "\n",
    "data = np.concatenate([\n",
    "    np.load('dataset/seq_spin_1651820674.npy'),\n",
    "    np.load('dataset/seq_come_1651820674.npy'),\n",
    "    np.load('dataset/seq_one_come_1651820674.npy')\n",
    "], axis=0)\n",
    "\n",
    "data.shape"
   ]
  },
  {
   "cell_type": "code",
   "execution_count": 3,
   "metadata": {},
   "outputs": [
    {
     "name": "stdout",
     "output_type": "stream",
     "text": [
      "(1253, 30, 99)\n",
      "(1253,)\n"
     ]
    }
   ],
   "source": [
    "x_data = data[:, :, :-1]\n",
    "labels = data[:, 0, -1]\n",
    "\n",
    "print(x_data.shape)\n",
    "print(labels.shape)"
   ]
  },
  {
   "cell_type": "code",
   "execution_count": 4,
   "metadata": {},
   "outputs": [
    {
     "ename": "ModuleNotFoundError",
     "evalue": "No module named 'tensorflow'",
     "output_type": "error",
     "traceback": [
      "\u001b[0;31m---------------------------------------------------------------------------\u001b[0m",
      "\u001b[0;31mModuleNotFoundError\u001b[0m                       Traceback (most recent call last)",
      "Input \u001b[0;32mIn [4]\u001b[0m, in \u001b[0;36m<cell line: 1>\u001b[0;34m()\u001b[0m\n\u001b[0;32m----> 1\u001b[0m \u001b[38;5;28;01mfrom\u001b[39;00m \u001b[38;5;21;01mtensorflow\u001b[39;00m\u001b[38;5;21;01m.\u001b[39;00m\u001b[38;5;21;01mkeras\u001b[39;00m\u001b[38;5;21;01m.\u001b[39;00m\u001b[38;5;21;01mutils\u001b[39;00m \u001b[38;5;28;01mimport\u001b[39;00m to_categorical\n\u001b[1;32m      3\u001b[0m y_data \u001b[38;5;241m=\u001b[39m to_categorical(labels, num_classes\u001b[38;5;241m=\u001b[39m\u001b[38;5;28mlen\u001b[39m(actions))\n\u001b[1;32m      4\u001b[0m y_data\u001b[38;5;241m.\u001b[39mshape\n",
      "\u001b[0;31mModuleNotFoundError\u001b[0m: No module named 'tensorflow'"
     ]
    }
   ],
   "source": [
    "\n",
    "from tensorflow.keras.utils import to_categorical\n",
    "\n",
    "y_data = to_categorical(labels, num_classes=len(actions))\n",
    "y_data.shape"
   ]
  },
  {
   "cell_type": "code",
   "execution_count": 7,
   "metadata": {},
   "outputs": [
    {
     "name": "stdout",
     "output_type": "stream",
     "text": [
      "(1134, 30, 99) (1134, 3)\n",
      "(126, 30, 99) (126, 3)\n"
     ]
    }
   ],
   "source": [
    "from sklearn.model_selection import train_test_split\n",
    "\n",
    "x_data = x_data.astype(np.float32)\n",
    "y_data = y_data.astype(np.float32)\n",
    "\n",
    "x_train, x_val, y_train, y_val = train_test_split(x_data, y_data, test_size=0.1, random_state=2021)\n",
    "\n",
    "print(x_train.shape, y_train.shape)\n",
    "print(x_val.shape, y_val.shape)"
   ]
  },
  {
   "cell_type": "code",
   "execution_count": 8,
   "metadata": {},
   "outputs": [
    {
     "name": "stdout",
     "output_type": "stream",
     "text": [
      "Model: \"sequential\"\n",
      "_________________________________________________________________\n",
      "Layer (type)                 Output Shape              Param #   \n",
      "=================================================================\n",
      "lstm (LSTM)                  (None, 64)                41984     \n",
      "_________________________________________________________________\n",
      "dense (Dense)                (None, 32)                2080      \n",
      "_________________________________________________________________\n",
      "dense_1 (Dense)              (None, 3)                 99        \n",
      "=================================================================\n",
      "Total params: 44,163\n",
      "Trainable params: 44,163\n",
      "Non-trainable params: 0\n",
      "_________________________________________________________________\n"
     ]
    },
    {
     "name": "stderr",
     "output_type": "stream",
     "text": [
      "2022-04-08 15:09:23.846332: I tensorflow/core/platform/cpu_feature_guard.cc:145] This TensorFlow binary is optimized with Intel(R) MKL-DNN to use the following CPU instructions in performance critical operations:  SSE4.1 SSE4.2\n",
      "To enable them in non-MKL-DNN operations, rebuild TensorFlow with the appropriate compiler flags.\n",
      "2022-04-08 15:09:23.848508: I tensorflow/core/common_runtime/process_util.cc:115] Creating new thread pool with default inter op setting: 8. Tune using inter_op_parallelism_threads for best performance.\n"
     ]
    }
   ],
   "source": [
    "from tensorflow.keras.models import Sequential\n",
    "from tensorflow.keras.layers import LSTM, Dense\n",
    "\n",
    "model = Sequential([\n",
    "    LSTM(64, activation='relu', input_shape=x_train.shape[1:3]),\n",
    "    Dense(32, activation='relu'),\n",
    "    Dense(len(actions), activation='softmax')\n",
    "])\n",
    "\n",
    "model.compile(optimizer='adam', loss='categorical_crossentropy', metrics=['acc'])\n",
    "model.summary()"
   ]
  },
  {
   "cell_type": "code",
   "execution_count": null,
   "metadata": {
    "scrolled": true
   },
   "outputs": [
    {
     "name": "stdout",
     "output_type": "stream",
     "text": [
      "Train on 1134 samples, validate on 126 samples\n",
      "Epoch 1/50\n",
      "1120/1134 [============================>.] - ETA: 0s - loss: 48.4012 - acc: 0.4357\n",
      "Epoch 00001: val_acc improved from -inf to 0.76984, saving model to models/model.h5\n",
      "1134/1134 [==============================] - 4s 4ms/sample - loss: 47.9546 - acc: 0.4374 - val_loss: 9.8415 - val_acc: 0.7698\n",
      "Epoch 2/50\n",
      "1120/1134 [============================>.] - ETA: 0s - loss: 23.8474 - acc: 0.6580\n",
      "Epoch 00002: val_acc did not improve from 0.76984\n",
      "1134/1134 [==============================] - 2s 2ms/sample - loss: 23.6983 - acc: 0.6570 - val_loss: 10.3166 - val_acc: 0.5556\n",
      "Epoch 3/50\n",
      "1120/1134 [============================>.] - ETA: 0s - loss: 5.1194 - acc: 0.7437\n",
      "Epoch 00003: val_acc improved from 0.76984 to 0.93651, saving model to models/model.h5\n",
      "1134/1134 [==============================] - 3s 2ms/sample - loss: 5.0562 - acc: 0.7469 - val_loss: 5.3029 - val_acc: 0.9365\n",
      "Epoch 4/50\n",
      "1120/1134 [============================>.] - ETA: 0s - loss: 5.4689 - acc: 0.7937\n",
      "Epoch 00004: val_acc did not improve from 0.93651\n",
      "1134/1134 [==============================] - 2s 2ms/sample - loss: 5.4283 - acc: 0.7954 - val_loss: 3.1178 - val_acc: 0.7937\n",
      "Epoch 5/50\n",
      "1120/1134 [============================>.] - ETA: 0s - loss: 12.8965 - acc: 0.7920\n",
      "Epoch 00005: val_acc did not improve from 0.93651\n",
      "1134/1134 [==============================] - 3s 2ms/sample - loss: 12.7373 - acc: 0.7945 - val_loss: 3.5217 - val_acc: 0.9127\n",
      "Epoch 6/50\n",
      "1120/1134 [============================>.] - ETA: 0s - loss: 1.0128 - acc: 0.9643\n",
      "Epoch 00006: val_acc improved from 0.93651 to 0.98413, saving model to models/model.h5\n",
      "1134/1134 [==============================] - 3s 2ms/sample - loss: 1.0003 - acc: 0.9647 - val_loss: 0.2879 - val_acc: 0.9841\n",
      "Epoch 7/50\n",
      "1120/1134 [============================>.] - ETA: 0s - loss: 1.0157 - acc: 0.9563\n",
      "Epoch 00007: val_acc did not improve from 0.98413\n",
      "1134/1134 [==============================] - 3s 2ms/sample - loss: 1.0208 - acc: 0.9559 - val_loss: 0.7702 - val_acc: 0.9444\n",
      "Epoch 8/50\n",
      "1120/1134 [============================>.] - ETA: 0s - loss: 0.8332 - acc: 0.9705\n",
      "Epoch 00008: val_acc improved from 0.98413 to 0.99206, saving model to models/model.h5\n",
      "1134/1134 [==============================] - 3s 2ms/sample - loss: 0.8229 - acc: 0.9709 - val_loss: 0.0970 - val_acc: 0.9921\n",
      "Epoch 9/50\n",
      "1120/1134 [============================>.] - ETA: 0s - loss: 0.6363 - acc: 0.9714\n",
      "Epoch 00009: val_acc did not improve from 0.99206\n",
      "1134/1134 [==============================] - 2s 2ms/sample - loss: 0.6285 - acc: 0.9718 - val_loss: 1.9096 - val_acc: 0.9603\n",
      "Epoch 10/50\n",
      "1120/1134 [============================>.] - ETA: 0s - loss: 28.6674 - acc: 0.7152\n",
      "Epoch 00010: val_acc did not improve from 0.99206\n",
      "1134/1134 [==============================] - 3s 2ms/sample - loss: 28.5839 - acc: 0.7134 - val_loss: 62.7947 - val_acc: 0.5635\n",
      "Epoch 11/50\n",
      "1120/1134 [============================>.] - ETA: 0s - loss: 53.0668 - acc: 0.5393\n",
      "Epoch 00011: val_acc did not improve from 0.99206\n",
      "1134/1134 [==============================] - 3s 2ms/sample - loss: 52.7028 - acc: 0.5388 - val_loss: 30.3179 - val_acc: 0.5714\n",
      "Epoch 12/50\n",
      "1120/1134 [============================>.] - ETA: 0s - loss: 299.2648 - acc: 0.4589\n",
      "Epoch 00012: val_acc did not improve from 0.99206\n",
      "1134/1134 [==============================] - 2s 2ms/sample - loss: 306.7061 - acc: 0.4594 - val_loss: 369.3848 - val_acc: 0.5000\n",
      "Epoch 13/50\n",
      "1120/1134 [============================>.] - ETA: 0s - loss: 349.5120 - acc: 0.3768\n",
      "Epoch 00013: val_acc did not improve from 0.99206\n",
      "1134/1134 [==============================] - 3s 2ms/sample - loss: 347.5962 - acc: 0.3792 - val_loss: 412.7789 - val_acc: 0.4365\n",
      "Epoch 14/50\n",
      "1120/1134 [============================>.] - ETA: 0s - loss: 87.7109 - acc: 0.7420\n",
      "Epoch 00014: val_acc did not improve from 0.99206\n",
      "1134/1134 [==============================] - 3s 2ms/sample - loss: 90.6725 - acc: 0.7363 - val_loss: 203.7702 - val_acc: 0.5714\n",
      "Epoch 15/50\n",
      "1120/1134 [============================>.] - ETA: 0s - loss: 55.1688 - acc: 0.7241\n",
      "Epoch 00015: val_acc did not improve from 0.99206\n",
      "1134/1134 [==============================] - 3s 2ms/sample - loss: 54.6186 - acc: 0.7240 - val_loss: 6.5977 - val_acc: 0.9206\n",
      "Epoch 16/50\n",
      "1120/1134 [============================>.] - ETA: 0s - loss: 11.7551 - acc: 0.8804\n",
      "Epoch 00016: val_acc did not improve from 0.99206\n",
      "1134/1134 [==============================] - 3s 2ms/sample - loss: 11.9436 - acc: 0.8792 - val_loss: 29.9833 - val_acc: 0.8571\n",
      "Epoch 17/50\n",
      "1120/1134 [============================>.] - ETA: 0s - loss: 14.1350 - acc: 0.9223\n",
      "Epoch 00017: val_acc did not improve from 0.99206\n",
      "1134/1134 [==============================] - 3s 2ms/sample - loss: 14.2007 - acc: 0.9198 - val_loss: 4.8170 - val_acc: 0.8095\n",
      "Epoch 18/50\n",
      "1120/1134 [============================>.] - ETA: 0s - loss: 11.0161 - acc: 0.9143\n",
      "Epoch 00018: val_acc did not improve from 0.99206\n",
      "1134/1134 [==============================] - 3s 2ms/sample - loss: 10.9094 - acc: 0.9136 - val_loss: 20.0129 - val_acc: 0.7063\n",
      "Epoch 19/50\n",
      "1120/1134 [============================>.] - ETA: 0s - loss: 14.8979 - acc: 0.7339\n",
      "Epoch 00019: val_acc did not improve from 0.99206\n",
      "1134/1134 [==============================] - 3s 2ms/sample - loss: 14.8766 - acc: 0.7354 - val_loss: 3.7541 - val_acc: 0.6746\n",
      "Epoch 20/50\n",
      "1120/1134 [============================>.] - ETA: 0s - loss: 2.4580 - acc: 0.8982\n",
      "Epoch 00020: val_acc did not improve from 0.99206\n",
      "1134/1134 [==============================] - 3s 2ms/sample - loss: 2.4406 - acc: 0.8986 - val_loss: 4.4757 - val_acc: 0.8968\n",
      "Epoch 21/50\n",
      "1120/1134 [============================>.] - ETA: 0s - loss: 1.1367 - acc: 0.9714\n",
      "Epoch 00021: val_acc did not improve from 0.99206\n",
      "1134/1134 [==============================] - 3s 2ms/sample - loss: 1.1681 - acc: 0.9700 - val_loss: 0.7226 - val_acc: 0.9603\n",
      "Epoch 22/50\n",
      "1120/1134 [============================>.] - ETA: 0s - loss: 0.3754 - acc: 0.9732\n",
      "Epoch 00022: val_acc did not improve from 0.99206\n",
      "1134/1134 [==============================] - 3s 2ms/sample - loss: 0.3708 - acc: 0.9735 - val_loss: 0.4798 - val_acc: 0.9762\n",
      "Epoch 23/50\n",
      "1120/1134 [============================>.] - ETA: 0s - loss: 0.4460 - acc: 0.9723\n",
      "Epoch 00023: val_acc did not improve from 0.99206\n",
      "1134/1134 [==============================] - 3s 2ms/sample - loss: 0.4405 - acc: 0.9727 - val_loss: 0.2024 - val_acc: 0.9683\n",
      "Epoch 24/50\n",
      "1024/1134 [==========================>...] - ETA: 0s - loss: 0.4451 - acc: 0.9697"
     ]
    }
   ],
   "source": [
    "from tensorflow.keras.callbacks import ModelCheckpoint, ReduceLROnPlateau\n",
    "\n",
    "history = model.fit(\n",
    "    x_train,\n",
    "    y_train,\n",
    "    validation_data=(x_val, y_val),\n",
    "    epochs=50,\n",
    "    callbacks=[\n",
    "        ModelCheckpoint('models/model.h5', monitor='val_acc', verbose=1, save_best_only=True, mode='auto'),\n",
    "        ReduceLROnPlateau(monitor='val_acc', factor=0.5, patience=50, verbose=1, mode='auto')\n",
    "    ]\n",
    ")"
   ]
  },
  {
   "cell_type": "code",
   "execution_count": null,
   "metadata": {},
   "outputs": [],
   "source": [
    "import matplotlib.pyplot as plt\n",
    "\n",
    "fig, loss_ax = plt.subplots(figsize=(16, 10))\n",
    "acc_ax = loss_ax.twinx()\n",
    "\n",
    "loss_ax.plot(history.history['loss'], 'y', label='train loss')\n",
    "loss_ax.plot(history.history['val_loss'], 'r', label='val loss')\n",
    "loss_ax.set_xlabel('epoch')\n",
    "loss_ax.set_ylabel('loss')\n",
    "loss_ax.legend(loc='upper left')\n",
    "\n",
    "acc_ax.plot(history.history['acc'], 'b', label='train acc')\n",
    "acc_ax.plot(history.history['val_acc'], 'g', label='val acc')\n",
    "acc_ax.set_ylabel('accuracy')\n",
    "acc_ax.legend(loc='upper left')\n",
    "\n",
    "plt.show()"
   ]
  },
  {
   "cell_type": "code",
   "execution_count": null,
   "metadata": {},
   "outputs": [],
   "source": [
    "from sklearn.metrics import multilabel_confusion_matrix\n",
    "from tensorflow.keras.models import load_model\n",
    "\n",
    "model = load_model('models/model.h5')\n",
    "\n",
    "y_pred = model.predict(x_val)\n",
    "\n",
    "multilabel_confusion_matrix(np.argmax(y_val, axis=1), np.argmax(y_pred, axis=1))"
   ]
  },
  {
   "cell_type": "code",
   "execution_count": null,
   "metadata": {},
   "outputs": [],
   "source": [
    "\n",
    "\n"
   ]
  },
  {
   "cell_type": "code",
   "execution_count": null,
   "metadata": {},
   "outputs": [],
   "source": []
  },
  {
   "cell_type": "code",
   "execution_count": null,
   "metadata": {},
   "outputs": [],
   "source": []
  },
  {
   "cell_type": "code",
   "execution_count": null,
   "metadata": {
    "pycharm": {
     "name": "#%%\n"
    }
   },
   "outputs": [],
   "source": []
  },
  {
   "cell_type": "code",
   "execution_count": null,
   "metadata": {
    "pycharm": {
     "name": "#%%\n"
    }
   },
   "outputs": [],
   "source": []
  },
  {
   "cell_type": "code",
   "execution_count": null,
   "metadata": {
    "pycharm": {
     "name": "#%%\n"
    }
   },
   "outputs": [],
   "source": []
  },
  {
   "cell_type": "code",
   "execution_count": null,
   "metadata": {
    "pycharm": {
     "name": "#%%\n"
    }
   },
   "outputs": [],
   "source": []
  },
  {
   "cell_type": "code",
   "execution_count": null,
   "metadata": {
    "pycharm": {
     "name": "#%%\n"
    }
   },
   "outputs": [],
   "source": []
  }
 ],
 "metadata": {
  "interpreter": {
   "hash": "4ef27848bc9c1d39e18cbf9f94e7466a386fbeb6141646cdbfe77ac842c60028"
  },
  "kernelspec": {
   "display_name": "Python 3 (ipykernel)",
   "language": "python",
   "name": "python3"
  },
  "language_info": {
   "codemirror_mode": {
    "name": "ipython",
    "version": 3
   },
   "file_extension": ".py",
   "mimetype": "text/x-python",
   "name": "python",
   "nbconvert_exporter": "python",
   "pygments_lexer": "ipython3",
   "version": "3.9.12"
  }
 },
 "nbformat": 4,
 "nbformat_minor": 4
}
