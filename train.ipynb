{
 "cells": [
  {
   "cell_type": "code",
   "execution_count": 1,
   "metadata": {},
   "outputs": [],
   "source": [
    "import numpy as np\n",
    "import os\n",
    "\n",
    "os.environ['CUDA_VISIBLE_DEVICES'] = '1'\n",
    "\n",
    "os.environ['TF_FORCE_GPU_ALLOW_GROWTH'] = 'true'"
   ]
  },
  {
   "cell_type": "code",
   "execution_count": 2,
   "metadata": {},
   "outputs": [
    {
     "data": {
      "text/plain": [
       "(1253, 30, 100)"
      ]
     },
     "execution_count": 2,
     "metadata": {},
     "output_type": "execute_result"
    }
   ],
   "source": [
    "actions = [\n",
    "    'spin',\n",
    "    'come',\n",
    "    'one_come'\n",
    "]\n",
    "\n",
    "data = np.concatenate([\n",
    "    np.load('dataset/seq_spin_1651820674.npy'),\n",
    "    np.load('dataset/seq_come_1651820674.npy'),\n",
    "    np.load('dataset/seq_one_come_1651820674.npy')\n",
    "], axis=0)\n",
    "\n",
    "data.shape"
   ]
  },
  {
   "cell_type": "code",
   "execution_count": 3,
   "metadata": {},
   "outputs": [
    {
     "name": "stdout",
     "output_type": "stream",
     "text": [
      "(1253, 30, 99)\n",
      "(1253,)\n"
     ]
    }
   ],
   "source": [
    "x_data = data[:, :, :-1]\n",
    "labels = data[:, 0, -1]\n",
    "\n",
    "print(x_data.shape)\n",
    "print(labels.shape)"
   ]
  },
  {
   "cell_type": "code",
   "execution_count": 4,
   "metadata": {},
   "outputs": [
    {
     "data": {
      "text/plain": [
       "(1253, 3)"
      ]
     },
     "execution_count": 4,
     "metadata": {},
     "output_type": "execute_result"
    }
   ],
   "source": [
    "\n",
    "from tensorflow.keras.utils import to_categorical\n",
    "\n",
    "y_data = to_categorical(labels, num_classes=len(actions))\n",
    "y_data.shape"
   ]
  },
  {
   "cell_type": "code",
   "execution_count": 5,
   "metadata": {},
   "outputs": [
    {
     "name": "stdout",
     "output_type": "stream",
     "text": [
      "(1127, 30, 99) (1127, 3)\n",
      "(126, 30, 99) (126, 3)\n"
     ]
    }
   ],
   "source": [
    "from sklearn.model_selection import train_test_split\n",
    "\n",
    "x_data = x_data.astype(np.float32)\n",
    "y_data = y_data.astype(np.float32)\n",
    "\n",
    "x_train, x_val, y_train, y_val = train_test_split(x_data, y_data, test_size=0.1, random_state=2021)\n",
    "\n",
    "print(x_train.shape, y_train.shape)\n",
    "print(x_val.shape, y_val.shape)"
   ]
  },
  {
   "cell_type": "code",
   "execution_count": 6,
   "metadata": {},
   "outputs": [
    {
     "name": "stdout",
     "output_type": "stream",
     "text": [
      "Model: \"sequential\"\n",
      "_________________________________________________________________\n",
      "Layer (type)                 Output Shape              Param #   \n",
      "=================================================================\n",
      "lstm (LSTM)                  (None, 64)                41984     \n",
      "_________________________________________________________________\n",
      "dense (Dense)                (None, 32)                2080      \n",
      "_________________________________________________________________\n",
      "dense_1 (Dense)              (None, 3)                 99        \n",
      "=================================================================\n",
      "Total params: 44,163\n",
      "Trainable params: 44,163\n",
      "Non-trainable params: 0\n",
      "_________________________________________________________________\n"
     ]
    },
    {
     "name": "stderr",
     "output_type": "stream",
     "text": [
      "2022-05-06 16:08:46.078029: I tensorflow/core/platform/cpu_feature_guard.cc:145] This TensorFlow binary is optimized with Intel(R) MKL-DNN to use the following CPU instructions in performance critical operations:  SSE4.1 SSE4.2\n",
      "To enable them in non-MKL-DNN operations, rebuild TensorFlow with the appropriate compiler flags.\n",
      "2022-05-06 16:08:46.079091: I tensorflow/core/common_runtime/process_util.cc:115] Creating new thread pool with default inter op setting: 8. Tune using inter_op_parallelism_threads for best performance.\n"
     ]
    }
   ],
   "source": [
    "from tensorflow.keras.models import Sequential\n",
    "from tensorflow.keras.layers import LSTM, Dense\n",
    "\n",
    "model = Sequential([\n",
    "    LSTM(64, activation='relu', input_shape=x_train.shape[1:3]),\n",
    "    Dense(32, activation='relu'),\n",
    "    Dense(len(actions), activation='softmax')\n",
    "])\n",
    "\n",
    "model.compile(optimizer='adam', loss='categorical_crossentropy', metrics=['acc'])\n",
    "model.summary()"
   ]
  },
  {
   "cell_type": "code",
   "execution_count": null,
   "metadata": {
    "scrolled": true
   },
   "outputs": [
    {
     "name": "stdout",
     "output_type": "stream",
     "text": [
      "Train on 1127 samples, validate on 126 samples\n",
      "Epoch 1/50\n",
      "1120/1127 [============================>.] - ETA: 0s - loss: 72.6332 - acc: 0.3411\n",
      "Epoch 00001: val_acc improved from -inf to 0.41270, saving model to models/model.h5\n",
      "1127/1127 [==============================] - 4s 4ms/sample - loss: 72.3405 - acc: 0.3425 - val_loss: 32.5207 - val_acc: 0.4127\n",
      "Epoch 2/50\n",
      "1120/1127 [============================>.] - ETA: 0s - loss: 24.3918 - acc: 0.4759\n",
      "Epoch 00002: val_acc improved from 0.41270 to 0.48413, saving model to models/model.h5\n",
      "1127/1127 [==============================] - 3s 2ms/sample - loss: 24.2984 - acc: 0.4765 - val_loss: 18.1163 - val_acc: 0.4841\n",
      "Epoch 3/50\n",
      "1120/1127 [============================>.] - ETA: 0s - loss: 7.1631 - acc: 0.6607\n",
      "Epoch 00003: val_acc improved from 0.48413 to 0.69841, saving model to models/model.h5\n",
      "1127/1127 [==============================] - 3s 2ms/sample - loss: 7.1187 - acc: 0.6628 - val_loss: 4.6909 - val_acc: 0.6984\n",
      "Epoch 4/50\n",
      "1120/1127 [============================>.] - ETA: 0s - loss: 4.3075 - acc: 0.7821\n",
      "Epoch 00004: val_acc improved from 0.69841 to 0.76984, saving model to models/model.h5\n",
      "1127/1127 [==============================] - 3s 2ms/sample - loss: 4.3119 - acc: 0.7808 - val_loss: 4.9276 - val_acc: 0.7698\n",
      "Epoch 5/50\n",
      "1120/1127 [============================>.] - ETA: 0s - loss: 8.7009 - acc: 0.7312\n",
      "Epoch 00005: val_acc improved from 0.76984 to 0.78571, saving model to models/model.h5\n",
      "1127/1127 [==============================] - 3s 2ms/sample - loss: 8.6495 - acc: 0.7320 - val_loss: 11.6808 - val_acc: 0.7857\n",
      "Epoch 6/50\n",
      "1120/1127 [============================>.] - ETA: 0s - loss: 11.4399 - acc: 0.7545\n",
      "Epoch 00006: val_acc did not improve from 0.78571\n",
      "1127/1127 [==============================] - 3s 2ms/sample - loss: 11.3696 - acc: 0.7551 - val_loss: 7.0212 - val_acc: 0.7063\n",
      "Epoch 7/50\n",
      "1120/1127 [============================>.] - ETA: 0s - loss: 6.1160 - acc: 0.7848\n",
      "Epoch 00007: val_acc did not improve from 0.78571\n",
      "1127/1127 [==============================] - 3s 2ms/sample - loss: 6.1096 - acc: 0.7835 - val_loss: 3.3071 - val_acc: 0.6825\n",
      "Epoch 8/50\n",
      "1120/1127 [============================>.] - ETA: 0s - loss: 2.9568 - acc: 0.7937\n",
      "Epoch 00008: val_acc improved from 0.78571 to 0.84127, saving model to models/model.h5\n",
      "1127/1127 [==============================] - 3s 2ms/sample - loss: 2.9391 - acc: 0.7941 - val_loss: 0.5920 - val_acc: 0.8413\n",
      "Epoch 9/50\n",
      "1120/1127 [============================>.] - ETA: 0s - loss: 1.9197 - acc: 0.8420\n",
      "Epoch 00009: val_acc improved from 0.84127 to 0.92063, saving model to models/model.h5\n",
      "1127/1127 [==============================] - 3s 2ms/sample - loss: 1.9078 - acc: 0.8429 - val_loss: 0.3407 - val_acc: 0.9206\n",
      "Epoch 10/50\n",
      "1120/1127 [============================>.] - ETA: 0s - loss: 0.9703 - acc: 0.8562\n",
      "Epoch 00010: val_acc did not improve from 0.92063\n",
      "1127/1127 [==============================] - 3s 2ms/sample - loss: 0.9643 - acc: 0.8571 - val_loss: 0.3030 - val_acc: 0.9127\n",
      "Epoch 11/50\n",
      "1120/1127 [============================>.] - ETA: 0s - loss: 0.5925 - acc: 0.8777\n",
      "Epoch 00011: val_acc did not improve from 0.92063\n",
      "1127/1127 [==============================] - 3s 3ms/sample - loss: 0.5928 - acc: 0.8776 - val_loss: 0.2859 - val_acc: 0.9206\n",
      "Epoch 12/50\n",
      "1120/1127 [============================>.] - ETA: 0s - loss: 0.5739 - acc: 0.8884\n",
      "Epoch 00012: val_acc did not improve from 0.92063\n",
      "1127/1127 [==============================] - 3s 3ms/sample - loss: 0.5728 - acc: 0.8873 - val_loss: 0.5434 - val_acc: 0.8571\n",
      "Epoch 13/50\n",
      "1120/1127 [============================>.] - ETA: 0s - loss: 0.4719 - acc: 0.8964\n",
      "Epoch 00013: val_acc improved from 0.92063 to 0.95238, saving model to models/model.h5\n",
      "1127/1127 [==============================] - 3s 2ms/sample - loss: 0.4690 - acc: 0.8971 - val_loss: 0.1457 - val_acc: 0.9524\n",
      "Epoch 14/50\n",
      "1120/1127 [============================>.] - ETA: 0s - loss: 0.3975 - acc: 0.9089\n",
      "Epoch 00014: val_acc did not improve from 0.95238\n",
      "1127/1127 [==============================] - 3s 2ms/sample - loss: 0.3953 - acc: 0.9095 - val_loss: 0.1117 - val_acc: 0.9524\n",
      "Epoch 15/50\n",
      "1120/1127 [============================>.] - ETA: 0s - loss: 0.4304 - acc: 0.9223\n",
      "Epoch 00015: val_acc did not improve from 0.95238\n",
      "1127/1127 [==============================] - 3s 2ms/sample - loss: 0.4277 - acc: 0.9228 - val_loss: 0.3695 - val_acc: 0.9206\n",
      "Epoch 16/50\n",
      "1120/1127 [============================>.] - ETA: 0s - loss: 0.4097 - acc: 0.9161\n",
      "Epoch 00016: val_acc did not improve from 0.95238\n",
      "1127/1127 [==============================] - 3s 2ms/sample - loss: 0.4075 - acc: 0.9166 - val_loss: 0.3525 - val_acc: 0.9048\n",
      "Epoch 17/50\n",
      "1120/1127 [============================>.] - ETA: 0s - loss: 0.7615 - acc: 0.8884\n",
      "Epoch 00017: val_acc did not improve from 0.95238\n",
      "1127/1127 [==============================] - 3s 2ms/sample - loss: 0.7568 - acc: 0.8891 - val_loss: 0.1506 - val_acc: 0.9365\n",
      "Epoch 18/50\n",
      "1120/1127 [============================>.] - ETA: 0s - loss: 0.3670 - acc: 0.9295\n",
      "Epoch 00018: val_acc did not improve from 0.95238\n",
      "1127/1127 [==============================] - 4s 3ms/sample - loss: 0.3657 - acc: 0.9290 - val_loss: 0.1837 - val_acc: 0.9206\n",
      "Epoch 19/50\n",
      "1120/1127 [============================>.] - ETA: 0s - loss: 0.2022 - acc: 0.9384\n",
      "Epoch 00019: val_acc did not improve from 0.95238\n",
      "1127/1127 [==============================] - 3s 3ms/sample - loss: 0.2010 - acc: 0.9388 - val_loss: 0.1948 - val_acc: 0.9206\n",
      "Epoch 20/50\n",
      "1120/1127 [============================>.] - ETA: 0s - loss: 0.2958 - acc: 0.9286\n",
      "Epoch 00020: val_acc did not improve from 0.95238\n",
      "1127/1127 [==============================] - 4s 3ms/sample - loss: 0.2941 - acc: 0.9290 - val_loss: 0.3446 - val_acc: 0.9127\n",
      "Epoch 21/50\n",
      "1120/1127 [============================>.] - ETA: 0s - loss: 0.2691 - acc: 0.9250\n",
      "Epoch 00021: val_acc did not improve from 0.95238\n",
      "1127/1127 [==============================] - 3s 2ms/sample - loss: 0.2721 - acc: 0.9237 - val_loss: 0.2036 - val_acc: 0.9286\n",
      "Epoch 22/50\n",
      "1120/1127 [============================>.] - ETA: 0s - loss: 0.6072 - acc: 0.9071\n",
      "Epoch 00022: val_acc did not improve from 0.95238\n",
      "1127/1127 [==============================] - 3s 2ms/sample - loss: 0.6108 - acc: 0.9051 - val_loss: 3.2501 - val_acc: 0.8810\n",
      "Epoch 23/50\n",
      "1120/1127 [============================>.] - ETA: 0s - loss: 1.4825 - acc: 0.8830\n",
      "Epoch 00023: val_acc did not improve from 0.95238\n",
      "1127/1127 [==============================] - 3s 2ms/sample - loss: 1.4868 - acc: 0.8820 - val_loss: 1.4725 - val_acc: 0.7857\n",
      "Epoch 24/50\n",
      "1120/1127 [============================>.] - ETA: 0s - loss: 2.2960 - acc: 0.8723\n",
      "Epoch 00024: val_acc did not improve from 0.95238\n",
      "1127/1127 [==============================] - 3s 3ms/sample - loss: 2.3835 - acc: 0.8705 - val_loss: 2.2596 - val_acc: 0.7619\n",
      "Epoch 25/50\n",
      "1120/1127 [============================>.] - ETA: 0s - loss: 1.0025 - acc: 0.8661\n",
      "Epoch 00025: val_acc improved from 0.95238 to 0.96825, saving model to models/model.h5\n",
      "1127/1127 [==============================] - 7s 6ms/sample - loss: 1.0012 - acc: 0.8660 - val_loss: 0.1291 - val_acc: 0.9683\n",
      "Epoch 26/50\n",
      "1120/1127 [============================>.] - ETA: 0s - loss: 0.3854 - acc: 0.9268\n",
      "Epoch 00026: val_acc did not improve from 0.96825\n",
      "1127/1127 [==============================] - 4s 4ms/sample - loss: 0.3846 - acc: 0.9264 - val_loss: 0.3780 - val_acc: 0.8730\n",
      "Epoch 27/50\n",
      "1120/1127 [============================>.] - ETA: 0s - loss: 0.3426 - acc: 0.9268\n",
      "Epoch 00027: val_acc did not improve from 0.96825\n",
      "1127/1127 [==============================] - 4s 3ms/sample - loss: 0.3466 - acc: 0.9264 - val_loss: 0.1011 - val_acc: 0.9683\n",
      "Epoch 28/50\n",
      "1120/1127 [============================>.] - ETA: 0s - loss: 0.1950 - acc: 0.9464\n",
      "Epoch 00028: val_acc did not improve from 0.96825\n",
      "1127/1127 [==============================] - 7s 6ms/sample - loss: 0.1938 - acc: 0.9468 - val_loss: 0.4027 - val_acc: 0.8413\n",
      "Epoch 29/50\n",
      "1120/1127 [============================>.] - ETA: 0s - loss: 0.2329 - acc: 0.9277\n",
      "Epoch 00029: val_acc did not improve from 0.96825\n",
      "1127/1127 [==============================] - 6s 6ms/sample - loss: 0.2315 - acc: 0.9281 - val_loss: 0.0958 - val_acc: 0.9683\n",
      "Epoch 30/50\n"
     ]
    },
    {
     "name": "stdout",
     "output_type": "stream",
     "text": [
      "1120/1127 [============================>.] - ETA: 0s - loss: 0.2426 - acc: 0.9357\n",
      "Epoch 00030: val_acc did not improve from 0.96825\n",
      "1127/1127 [==============================] - 8s 7ms/sample - loss: 0.2412 - acc: 0.9361 - val_loss: 0.3958 - val_acc: 0.8730\n",
      "Epoch 31/50\n",
      "1120/1127 [============================>.] - ETA: 0s - loss: 0.1752 - acc: 0.9527\n",
      "Epoch 00031: val_acc did not improve from 0.96825\n",
      "1127/1127 [==============================] - 5s 5ms/sample - loss: 0.1745 - acc: 0.9530 - val_loss: 0.0647 - val_acc: 0.9683\n",
      "Epoch 32/50\n",
      "1120/1127 [============================>.] - ETA: 0s - loss: 0.1414 - acc: 0.9554\n",
      "Epoch 00032: val_acc improved from 0.96825 to 0.97619, saving model to models/model.h5\n",
      "1127/1127 [==============================] - 4s 3ms/sample - loss: 0.1418 - acc: 0.9547 - val_loss: 0.0753 - val_acc: 0.9762\n",
      "Epoch 33/50\n",
      "1120/1127 [============================>.] - ETA: 0s - loss: 0.1473 - acc: 0.9625\n",
      "Epoch 00033: val_acc improved from 0.97619 to 0.98413, saving model to models/model.h5\n",
      "1127/1127 [==============================] - 4s 4ms/sample - loss: 0.1472 - acc: 0.9618 - val_loss: 0.0511 - val_acc: 0.9841\n",
      "Epoch 34/50\n",
      "1120/1127 [============================>.] - ETA: 0s - loss: 0.1136 - acc: 0.9625\n",
      "Epoch 00034: val_acc did not improve from 0.98413\n",
      "1127/1127 [==============================] - 7s 6ms/sample - loss: 0.1149 - acc: 0.9618 - val_loss: 0.1413 - val_acc: 0.9603\n",
      "Epoch 35/50\n",
      "1120/1127 [============================>.] - ETA: 0s - loss: 0.1623 - acc: 0.9518\n",
      "Epoch 00035: val_acc did not improve from 0.98413\n",
      "1127/1127 [==============================] - 6s 5ms/sample - loss: 0.1613 - acc: 0.9521 - val_loss: 0.5234 - val_acc: 0.9048\n",
      "Epoch 36/50\n",
      "1120/1127 [============================>.] - ETA: 0s - loss: 0.1966 - acc: 0.9491\n",
      "Epoch 00036: val_acc did not improve from 0.98413\n",
      "1127/1127 [==============================] - 8s 7ms/sample - loss: 0.1955 - acc: 0.9494 - val_loss: 0.0499 - val_acc: 0.9762\n",
      "Epoch 37/50\n",
      "1120/1127 [============================>.] - ETA: 0s - loss: 0.1281 - acc: 0.9563\n",
      "Epoch 00037: val_acc did not improve from 0.98413\n",
      "1127/1127 [==============================] - 8s 7ms/sample - loss: 0.1290 - acc: 0.9556 - val_loss: 0.0829 - val_acc: 0.9603\n",
      "Epoch 38/50\n",
      "1120/1127 [============================>.] - ETA: 0s - loss: 0.1187 - acc: 0.9607\n",
      "Epoch 00038: val_acc did not improve from 0.98413\n",
      "1127/1127 [==============================] - 8s 7ms/sample - loss: 0.1179 - acc: 0.9610 - val_loss: 0.0569 - val_acc: 0.9841\n",
      "Epoch 39/50\n",
      "1120/1127 [============================>.] - ETA: 0s - loss: 0.0945 - acc: 0.9670\n",
      "Epoch 00039: val_acc did not improve from 0.98413\n",
      "1127/1127 [==============================] - 5s 5ms/sample - loss: 0.0939 - acc: 0.9672 - val_loss: 0.0800 - val_acc: 0.9762\n",
      "Epoch 40/50\n",
      "1120/1127 [============================>.] - ETA: 0s - loss: 0.1297 - acc: 0.9616\n",
      "Epoch 00040: val_acc did not improve from 0.98413\n",
      "1127/1127 [==============================] - 6s 5ms/sample - loss: 0.1303 - acc: 0.9610 - val_loss: 0.0660 - val_acc: 0.9762\n",
      "Epoch 41/50\n",
      "1120/1127 [============================>.] - ETA: 0s - loss: 0.1603 - acc: 0.9482\n",
      "Epoch 00041: val_acc did not improve from 0.98413\n",
      "1127/1127 [==============================] - 6s 5ms/sample - loss: 0.1647 - acc: 0.9476 - val_loss: 0.0869 - val_acc: 0.9762\n",
      "Epoch 42/50\n",
      "1120/1127 [============================>.] - ETA: 0s - loss: 0.1437 - acc: 0.9536\n",
      "Epoch 00042: val_acc did not improve from 0.98413\n",
      "1127/1127 [==============================] - 4s 4ms/sample - loss: 0.1428 - acc: 0.9539 - val_loss: 0.1022 - val_acc: 0.9524\n",
      "Epoch 43/50\n",
      "1120/1127 [============================>.] - ETA: 0s - loss: 0.1080 - acc: 0.9688\n",
      "Epoch 00043: val_acc did not improve from 0.98413\n",
      "1127/1127 [==============================] - 3s 3ms/sample - loss: 0.1073 - acc: 0.9689 - val_loss: 0.0610 - val_acc: 0.9762\n",
      "Epoch 44/50\n",
      "1120/1127 [============================>.] - ETA: 0s - loss: 0.0654 - acc: 0.9777\n",
      "Epoch 00044: val_acc did not improve from 0.98413\n",
      "1127/1127 [==============================] - 6s 5ms/sample - loss: 0.0660 - acc: 0.9769 - val_loss: 0.1635 - val_acc: 0.9524\n",
      "Epoch 45/50\n",
      "1120/1127 [============================>.] - ETA: 0s - loss: 0.0987 - acc: 0.9616\n",
      "Epoch 00045: val_acc did not improve from 0.98413\n",
      "1127/1127 [==============================] - 8s 7ms/sample - loss: 0.0981 - acc: 0.9618 - val_loss: 0.0649 - val_acc: 0.9683\n",
      "Epoch 46/50\n",
      "1120/1127 [============================>.] - ETA: 0s - loss: 0.0707 - acc: 0.9688\n",
      "Epoch 00046: val_acc did not improve from 0.98413\n",
      "1127/1127 [==============================] - 4s 4ms/sample - loss: 0.0724 - acc: 0.9681 - val_loss: 0.0929 - val_acc: 0.9683\n",
      "Epoch 47/50\n",
      "1120/1127 [============================>.] - ETA: 0s - loss: 0.1215 - acc: 0.9634\n",
      "Epoch 00047: val_acc did not improve from 0.98413\n",
      "1127/1127 [==============================] - 7s 6ms/sample - loss: 0.1208 - acc: 0.9636 - val_loss: 0.0969 - val_acc: 0.9762\n",
      "Epoch 48/50\n",
      "1120/1127 [============================>.] - ETA: 0s - loss: 0.0620 - acc: 0.9750\n",
      "Epoch 00048: val_acc did not improve from 0.98413\n",
      "1127/1127 [==============================] - 8s 7ms/sample - loss: 0.0617 - acc: 0.9752 - val_loss: 0.0626 - val_acc: 0.9841\n",
      "Epoch 49/50\n",
      "1120/1127 [============================>.] - ETA: 0s - loss: 0.0520 - acc: 0.9786\n",
      "Epoch 00049: val_acc did not improve from 0.98413\n",
      "1127/1127 [==============================] - 8s 7ms/sample - loss: 0.0517 - acc: 0.9787 - val_loss: 0.1082 - val_acc: 0.9683\n",
      "Epoch 50/50\n",
      " 640/1127 [================>.............] - ETA: 3s - loss: 0.0703 - acc: 0.9750"
     ]
    }
   ],
   "source": [
    "from tensorflow.keras.callbacks import ModelCheckpoint, ReduceLROnPlateau\n",
    "\n",
    "history = model.fit(\n",
    "    x_train,\n",
    "    y_train,\n",
    "    validation_data=(x_val, y_val),\n",
    "    epochs=50,\n",
    "    callbacks=[\n",
    "        ModelCheckpoint('models/model.h5', monitor='val_acc', verbose=1, save_best_only=True, mode='auto'),\n",
    "        ReduceLROnPlateau(monitor='val_acc', factor=0.5, patience=50, verbose=1, mode='auto')\n",
    "    ]\n",
    ")"
   ]
  },
  {
   "cell_type": "code",
   "execution_count": null,
   "metadata": {},
   "outputs": [],
   "source": [
    "import matplotlib.pyplot as plt\n",
    "\n",
    "fig, loss_ax = plt.subplots(figsize=(16, 10))\n",
    "acc_ax = loss_ax.twinx()\n",
    "\n",
    "loss_ax.plot(history.history['loss'], 'y', label='train loss')\n",
    "loss_ax.plot(history.history['val_loss'], 'r', label='val loss')\n",
    "loss_ax.set_xlabel('epoch')\n",
    "loss_ax.set_ylabel('loss')\n",
    "loss_ax.legend(loc='upper left')\n",
    "\n",
    "acc_ax.plot(history.history['acc'], 'b', label='train acc')\n",
    "acc_ax.plot(history.history['val_acc'], 'g', label='val acc')\n",
    "acc_ax.set_ylabel('accuracy')\n",
    "acc_ax.legend(loc='upper left')\n",
    "\n",
    "plt.show()"
   ]
  },
  {
   "cell_type": "code",
   "execution_count": null,
   "metadata": {},
   "outputs": [],
   "source": [
    "from sklearn.metrics import multilabel_confusion_matrix\n",
    "from tensorflow.keras.models import load_model\n",
    "\n",
    "model = load_model('models/model.h5')\n",
    "\n",
    "y_pred = model.predict(x_val)\n",
    "\n",
    "multilabel_confusion_matrix(np.argmax(y_val, axis=1), np.argmax(y_pred, axis=1))"
   ]
  },
  {
   "cell_type": "code",
   "execution_count": null,
   "metadata": {},
   "outputs": [],
   "source": [
    "\n",
    "\n"
   ]
  },
  {
   "cell_type": "code",
   "execution_count": null,
   "metadata": {},
   "outputs": [],
   "source": []
  },
  {
   "cell_type": "code",
   "execution_count": null,
   "metadata": {},
   "outputs": [],
   "source": []
  },
  {
   "cell_type": "code",
   "execution_count": null,
   "metadata": {
    "pycharm": {
     "name": "#%%\n"
    }
   },
   "outputs": [],
   "source": []
  },
  {
   "cell_type": "code",
   "execution_count": null,
   "metadata": {
    "pycharm": {
     "name": "#%%\n"
    }
   },
   "outputs": [],
   "source": []
  },
  {
   "cell_type": "code",
   "execution_count": null,
   "metadata": {
    "pycharm": {
     "name": "#%%\n"
    }
   },
   "outputs": [],
   "source": []
  },
  {
   "cell_type": "code",
   "execution_count": null,
   "metadata": {
    "pycharm": {
     "name": "#%%\n"
    }
   },
   "outputs": [],
   "source": []
  },
  {
   "cell_type": "code",
   "execution_count": null,
   "metadata": {
    "pycharm": {
     "name": "#%%\n"
    }
   },
   "outputs": [],
   "source": []
  }
 ],
 "metadata": {
  "interpreter": {
   "hash": "4ef27848bc9c1d39e18cbf9f94e7466a386fbeb6141646cdbfe77ac842c60028"
  },
  "kernelspec": {
   "display_name": "Python 3 (ipykernel)",
   "language": "python",
   "name": "python3"
  },
  "language_info": {
   "codemirror_mode": {
    "name": "ipython",
    "version": 3
   },
   "file_extension": ".py",
   "mimetype": "text/x-python",
   "name": "python",
   "nbconvert_exporter": "python",
   "pygments_lexer": "ipython3",
   "version": "3.7.9"
  }
 },
 "nbformat": 4,
 "nbformat_minor": 4
}